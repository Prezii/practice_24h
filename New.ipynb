{
  "nbformat": 4,
  "nbformat_minor": 0,
  "metadata": {
    "colab": {
      "provenance": [],
      "authorship_tag": "ABX9TyNFzjFoVhA2VEk/HlW2mN2A",
      "include_colab_link": true
    },
    "kernelspec": {
      "name": "python3",
      "display_name": "Python 3"
    },
    "language_info": {
      "name": "python"
    }
  },
  "cells": [
    {
      "cell_type": "markdown",
      "metadata": {
        "id": "view-in-github",
        "colab_type": "text"
      },
      "source": [
        "<a href=\"https://colab.research.google.com/github/Prezii/practice_24h/blob/main/New.ipynb\" target=\"_parent\"><img src=\"https://colab.research.google.com/assets/colab-badge.svg\" alt=\"Open In Colab\"/></a>"
      ]
    },
    {
      "cell_type": "code",
      "source": [
        "24.95"
      ],
      "metadata": {
        "id": "YVAjE96UyUhL"
      },
      "execution_count": null,
      "outputs": []
    },
    {
      "cell_type": "code",
      "source": [
        "\"the value is ${}\".format(8)"
      ],
      "metadata": {
        "colab": {
          "base_uri": "https://localhost:8080/",
          "height": 36
        },
        "id": "x5qixn_NYncE",
        "outputId": "f4508c08-5183-4c17-dfc4-5f432939a55d"
      },
      "execution_count": null,
      "outputs": [
        {
          "output_type": "execute_result",
          "data": {
            "text/plain": [
              "'the value is $8'"
            ],
            "application/vnd.google.colaboratory.intrinsic+json": {
              "type": "string"
            }
          },
          "metadata": {},
          "execution_count": 60
        }
      ]
    },
    {
      "cell_type": "code",
      "source": [
        "from math import pi\n",
        "def radians_to_degrees(rad):\n",
        "\tvalue= float(\"%0.1f\" % (rad*180/pi))\n",
        "\treturn value\n",
        "radians_to_degrees(5)"
      ],
      "metadata": {
        "colab": {
          "base_uri": "https://localhost:8080/"
        },
        "id": "WzQ2sytegVFO",
        "outputId": "cc6e7ded-fb17-4a84-81b4-f77f9f671df3"
      },
      "execution_count": null,
      "outputs": [
        {
          "output_type": "execute_result",
          "data": {
            "text/plain": [
              "286.5"
            ]
          },
          "metadata": {},
          "execution_count": 19
        }
      ]
    },
    {
      "cell_type": "code",
      "source": [
        "def solution(year):\n",
        "  if year % 100 == 0:\n",
        "    return(int(year/100))\n",
        "  else:\n",
        "    return(int(year/100 + 1))\n"
      ],
      "metadata": {
        "id": "oDZfDYFvIPGw"
      },
      "execution_count": null,
      "outputs": []
    },
    {
      "cell_type": "code",
      "source": [
        "from math import pi\n",
        "def solution2(r):\n",
        "  return (4/3)*pi*r**3 # What is the volume of a sphere with radius 5\n",
        "(\"%.2f\"%solution2(5))"
      ],
      "metadata": {
        "colab": {
          "base_uri": "https://localhost:8080/",
          "height": 36
        },
        "id": "8J9wMa7VS65C",
        "outputId": "65f201fc-f6ea-4906-e240-f53d06bb4a3f"
      },
      "execution_count": null,
      "outputs": [
        {
          "output_type": "execute_result",
          "data": {
            "text/plain": [
              "'523.60'"
            ],
            "application/vnd.google.colaboratory.intrinsic+json": {
              "type": "string"
            }
          },
          "metadata": {},
          "execution_count": 58
        }
      ]
    },
    {
      "cell_type": "code",
      "source": [
        "help(\"lambda\")"
      ],
      "metadata": {
        "colab": {
          "base_uri": "https://localhost:8080/"
        },
        "id": "lxqt8A5bU00C",
        "outputId": "9b4ce18d-357a-487b-d5a2-be9b2b5e2597"
      },
      "execution_count": null,
      "outputs": [
        {
          "output_type": "stream",
          "name": "stdout",
          "text": [
            "Lambdas\n",
            "*******\n",
            "\n",
            "   lambda_expr ::= \"lambda\" [parameter_list] \":\" expression\n",
            "\n",
            "Lambda expressions (sometimes called lambda forms) are used to create\n",
            "anonymous functions. The expression \"lambda parameters: expression\"\n",
            "yields a function object.  The unnamed object behaves like a function\n",
            "object defined with:\n",
            "\n",
            "   def <lambda>(parameters):\n",
            "       return expression\n",
            "\n",
            "See section Function definitions for the syntax of parameter lists.\n",
            "Note that functions created with lambda expressions cannot contain\n",
            "statements or annotations.\n",
            "\n",
            "Related help topics: FUNCTIONS\n",
            "\n"
          ]
        }
      ]
    },
    {
      "cell_type": "code",
      "source": [
        "solution(3001)"
      ],
      "metadata": {
        "colab": {
          "base_uri": "https://localhost:8080/"
        },
        "id": "ylbEEVCVIRaV",
        "outputId": "b05da8d7-4b5c-479f-86ee-3b7929870f35"
      },
      "execution_count": null,
      "outputs": [
        {
          "output_type": "execute_result",
          "data": {
            "text/plain": [
              "31"
            ]
          },
          "metadata": {},
          "execution_count": 10
        }
      ]
    },
    {
      "cell_type": "code",
      "source": [
        "first = 'throat'\n",
        "second = 'warbler'\n",
        "print(first + second)"
      ],
      "metadata": {
        "colab": {
          "base_uri": "https://localhost:8080/"
        },
        "id": "ifyNtRKiQ7jg",
        "outputId": "7ebff859-5399-4200-ad68-7b743a606a00"
      },
      "execution_count": null,
      "outputs": [
        {
          "output_type": "stream",
          "name": "stdout",
          "text": [
            "throatwarbler\n"
          ]
        }
      ]
    },
    {
      "cell_type": "code",
      "source": [
        "1 + 2 * 5"
      ],
      "metadata": {
        "colab": {
          "base_uri": "https://localhost:8080/"
        },
        "id": "5s2aLvOfSyIv",
        "outputId": "c4e9b63a-e009-478e-ea5c-a2e8fa3751e3"
      },
      "execution_count": null,
      "outputs": [
        {
          "output_type": "execute_result",
          "data": {
            "text/plain": [
              "11"
            ]
          },
          "metadata": {},
          "execution_count": 40
        }
      ]
    },
    {
      "cell_type": "code",
      "source": [
        "xr= [()]\n",
        "xr[0]"
      ],
      "metadata": {
        "colab": {
          "base_uri": "https://localhost:8080/"
        },
        "id": "7l2MpxIgPL-e",
        "outputId": "6e7f0af6-ddaf-4a4a-aa82-fad5401ab18f"
      },
      "execution_count": null,
      "outputs": [
        {
          "output_type": "execute_result",
          "data": {
            "text/plain": [
              "()"
            ]
          },
          "metadata": {},
          "execution_count": 38
        }
      ]
    },
    {
      "cell_type": "code",
      "source": [
        "type(xr[0])"
      ],
      "metadata": {
        "colab": {
          "base_uri": "https://localhost:8080/"
        },
        "id": "Z1FgW-kJJxkj",
        "outputId": "cd896fed-7a79-4da7-94f1-f5d936dcd98e"
      },
      "execution_count": null,
      "outputs": [
        {
          "output_type": "execute_result",
          "data": {
            "text/plain": [
              "tuple"
            ]
          },
          "metadata": {},
          "execution_count": 36
        }
      ]
    },
    {
      "cell_type": "code",
      "source": [
        "[False]*2"
      ],
      "metadata": {
        "colab": {
          "base_uri": "https://localhost:8080/"
        },
        "id": "cP_j5CJhJR1l",
        "outputId": "1f0659da-ee97-4e42-8921-c994e378c0e6"
      },
      "execution_count": null,
      "outputs": [
        {
          "output_type": "execute_result",
          "data": {
            "text/plain": [
              "[False, False]"
            ]
          },
          "metadata": {},
          "execution_count": 13
        }
      ]
    },
    {
      "cell_type": "code",
      "source": [
        "age =\"1234\"\n",
        "len(age)"
      ],
      "metadata": {
        "colab": {
          "base_uri": "https://localhost:8080/"
        },
        "id": "AFJVnAX69DOF",
        "outputId": "561a04f6-005a-45a4-e4e1-8fdf76a00b25"
      },
      "execution_count": null,
      "outputs": [
        {
          "output_type": "execute_result",
          "data": {
            "text/plain": [
              "4"
            ]
          },
          "metadata": {},
          "execution_count": 5
        }
      ]
    },
    {
      "cell_type": "code",
      "source": [],
      "metadata": {
        "id": "aZMhUaYIyOdp"
      },
      "execution_count": null,
      "outputs": []
    },
    {
      "cell_type": "code",
      "source": [
        "help(\"keywords\")"
      ],
      "metadata": {
        "colab": {
          "base_uri": "https://localhost:8080/"
        },
        "id": "oZ4UI8U0uzc5",
        "outputId": "54909bf2-cd26-4487-8aa4-065f1b2996e1"
      },
      "execution_count": null,
      "outputs": [
        {
          "output_type": "stream",
          "name": "stdout",
          "text": [
            "\n",
            "Here is a list of the Python keywords.  Enter any keyword to get more help.\n",
            "\n",
            "False               class               from                or\n",
            "None                continue            global              pass\n",
            "True                def                 if                  raise\n",
            "and                 del                 import              return\n",
            "as                  elif                in                  try\n",
            "assert              else                is                  while\n",
            "async               except              lambda              with\n",
            "await               finally             nonlocal            yield\n",
            "break               for                 not                 \n",
            "\n"
          ]
        }
      ]
    },
    {
      "cell_type": "code",
      "source": [
        "help(\"aiter\")"
      ],
      "metadata": {
        "id": "yQFtE9Jcpwfm",
        "outputId": "12efa8db-5ad4-4adc-ac54-0fcd0f302392",
        "colab": {
          "base_uri": "https://localhost:8080/"
        }
      },
      "execution_count": null,
      "outputs": [
        {
          "output_type": "stream",
          "name": "stdout",
          "text": [
            "Help on built-in function aiter in module builtins:\n",
            "\n",
            "aiter(async_iterable, /)\n",
            "    Return an AsyncIterator for an AsyncIterable object.\n",
            "\n"
          ]
        }
      ]
    },
    {
      "cell_type": "code",
      "execution_count": null,
      "metadata": {
        "colab": {
          "base_uri": "https://localhost:8080/",
          "height": 36
        },
        "id": "1ZsTpVO1B8Tb",
        "outputId": "fc4f29b7-fe49-49af-e49d-02e1e2070119"
      },
      "outputs": [
        {
          "output_type": "execute_result",
          "data": {
            "text/plain": [
              "'in... in... incre?'"
            ],
            "application/vnd.google.colaboratory.intrinsic+json": {
              "type": "string"
            }
          },
          "metadata": {},
          "execution_count": 12
        }
      ],
      "source": [
        "def stutter(word):\n",
        "\t\treturn '{0}... {0}... {1}?'.format(word[:2], word)\n",
        "stutter(\"incre\")"
      ]
    },
    {
      "cell_type": "code",
      "source": [
        "def stutter(word):\n",
        "\treturn word[0]+word[1]+\"... \"+word[0]+word[1]+\"... \"+word+\"?\"\n",
        "stutter(\"so\")"
      ],
      "metadata": {
        "colab": {
          "base_uri": "https://localhost:8080/",
          "height": 36
        },
        "id": "KyP-yeGocvNI",
        "outputId": "8cd125a4-96e0-4c74-b9df-4092c080873e"
      },
      "execution_count": null,
      "outputs": [
        {
          "output_type": "execute_result",
          "data": {
            "text/plain": [
              "'so... so... so?'"
            ],
            "application/vnd.google.colaboratory.intrinsic+json": {
              "type": "string"
            }
          },
          "metadata": {},
          "execution_count": 10
        }
      ]
    },
    {
      "cell_type": "code",
      "source": [
        "x=10\n",
        "print(\"Cosmo can make you\", x, \"times more effective\"+\"!\")"
      ],
      "metadata": {
        "colab": {
          "base_uri": "https://localhost:8080/"
        },
        "id": "MDoK9rSBhvHS",
        "outputId": "987fd92f-e9fa-438b-f663-2ff70049355d"
      },
      "execution_count": null,
      "outputs": [
        {
          "output_type": "stream",
          "name": "stdout",
          "text": [
            "Cosmo can make you 10 times more effective!\n"
          ]
        }
      ]
    },
    {
      "cell_type": "code",
      "source": [
        "\"{%.1f}\"%4"
      ],
      "metadata": {
        "colab": {
          "base_uri": "https://localhost:8080/",
          "height": 36
        },
        "id": "9rC8FvLedMuL",
        "outputId": "0abe2c30-e726-4d78-82cc-78929719481c"
      },
      "execution_count": null,
      "outputs": [
        {
          "output_type": "execute_result",
          "data": {
            "text/plain": [
              "'{4.0}'"
            ],
            "application/vnd.google.colaboratory.intrinsic+json": {
              "type": "string"
            }
          },
          "metadata": {},
          "execution_count": 16
        }
      ]
    },
    {
      "cell_type": "code",
      "source": [
        "#SLICING LIST\n",
        "# Initialize list\n",
        "Lst = [50, 70, 30, 20, 90, 10, 50]\n",
        "\n",
        "# Display list\n",
        "print(Lst[::])"
      ],
      "metadata": {
        "colab": {
          "base_uri": "https://localhost:8080/"
        },
        "id": "AUDR9EYDIcNh",
        "outputId": "72d36ffd-a1a4-45ef-cec9-8baeffb79c28"
      },
      "execution_count": null,
      "outputs": [
        {
          "output_type": "stream",
          "name": "stdout",
          "text": [
            "[50, 70, 30, 20, 90, 10, 50]\n"
          ]
        }
      ]
    },
    {
      "cell_type": "code",
      "source": [
        "Lst = \"incredible\"\n",
        "\"{0}... {0}... {1}!\".format(Lst[:2], Lst)"
      ],
      "metadata": {
        "colab": {
          "base_uri": "https://localhost:8080/",
          "height": 36
        },
        "id": "Igbgt9m5PFcx",
        "outputId": "657aa373-f0b1-4b34-dd09-33c7d729d085"
      },
      "execution_count": null,
      "outputs": [
        {
          "output_type": "execute_result",
          "data": {
            "text/plain": [
              "'in... in... incredible!'"
            ],
            "application/vnd.google.colaboratory.intrinsic+json": {
              "type": "string"
            }
          },
          "metadata": {},
          "execution_count": 15
        }
      ]
    },
    {
      "cell_type": "code",
      "source": [],
      "metadata": {
        "id": "2xslMsvlQZLq"
      },
      "execution_count": null,
      "outputs": []
    },
    {
      "cell_type": "code",
      "source": [
        "\n",
        "Lst.index(50[, i[, j]])"
      ],
      "metadata": {
        "colab": {
          "base_uri": "https://localhost:8080/",
          "height": 106
        },
        "id": "pQJV7TsXP6Ln",
        "outputId": "ffcc3083-6e7e-42f2-e8d8-39c80085191d"
      },
      "execution_count": null,
      "outputs": [
        {
          "output_type": "error",
          "ename": "SyntaxError",
          "evalue": "invalid syntax (<ipython-input-4-20d6b048c69a>, line 1)",
          "traceback": [
            "\u001b[0;36m  File \u001b[0;32m\"<ipython-input-4-20d6b048c69a>\"\u001b[0;36m, line \u001b[0;32m1\u001b[0m\n\u001b[0;31m    Lst.index(50[, i[, j]])\u001b[0m\n\u001b[0m                 ^\u001b[0m\n\u001b[0;31mSyntaxError\u001b[0m\u001b[0;31m:\u001b[0m invalid syntax\n"
          ]
        }
      ]
    },
    {
      "cell_type": "code",
      "source": [
        "#Reserved words in Python\n",
        "\"\"\"\n",
        "False\n",
        "def\n",
        "if\n",
        "raise\n",
        "None\n",
        "del\n",
        "import\n",
        "return\n",
        "True\n",
        "elif\n",
        "in\n",
        "try\n",
        "and\n",
        "else\n",
        "is\n",
        "while\n",
        "as\n",
        "except\n",
        "lambda\n",
        "with\n",
        "assert\n",
        "finally\n",
        "nonlocal\n",
        "yield\n",
        "break\n",
        "for\n",
        "not\n",
        "class\n",
        "form\n",
        "or\n",
        "continue\n",
        "global\n",
        "pass\n",
        "\"\"\""
      ],
      "metadata": {
        "id": "inJ8d-i4Ik2H"
      },
      "execution_count": null,
      "outputs": []
    },
    {
      "cell_type": "code",
      "source": [
        "#book python\n",
        "\n",
        "repeat_lyrics()\n",
        "\n",
        "def print_lyrics():\n",
        "  print(\"I'm a lumberjack, and I'm okay.\")\n",
        "  print(\"I sleep all night and I work all day.\")\n",
        "\n",
        "def repeat_lyrics():\n",
        "  print_lyrics()\n",
        "  print_lyrics()\n"
      ],
      "metadata": {
        "colab": {
          "base_uri": "https://localhost:8080/"
        },
        "id": "7FgAqn0IbubZ",
        "outputId": "6e83b2f1-4b85-4222-f204-3dd3d4f249e0"
      },
      "execution_count": null,
      "outputs": [
        {
          "output_type": "stream",
          "name": "stdout",
          "text": [
            "I'm a lumberjack, and I'm okay.\n",
            "I sleep all night and I work all day.\n",
            "I'm a lumberjack, and I'm okay.\n",
            "I sleep all night and I work all day.\n"
          ]
        }
      ]
    }
  ]
}